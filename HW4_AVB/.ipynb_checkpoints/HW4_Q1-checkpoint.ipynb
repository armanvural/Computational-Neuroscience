{
 "cells": [
  {
   "cell_type": "code",
   "execution_count": 35,
   "id": "exact-peeing",
   "metadata": {},
   "outputs": [],
   "source": [
    "import os\n",
    "import numpy as np\n",
    "import h5py\n",
    "import matplotlib.pyplot as plt"
   ]
  },
  {
   "cell_type": "code",
   "execution_count": 4,
   "id": "refined-north",
   "metadata": {},
   "outputs": [],
   "source": [
    "q1_plot_directory = ['Q1|A', 'Q1|B', 'Q1|C', 'Q1|D']\n",
    "#os.mkdir(q1_plot_directory[0])"
   ]
  },
  {
   "cell_type": "code",
   "execution_count": 5,
   "id": "common-burst",
   "metadata": {},
   "outputs": [
    {
     "name": "stdout",
     "output_type": "stream",
     "text": [
      "Contents of hw4_data1.mat file: ['faces']\n",
      "Question 1: Part A\n",
      "faces is of shape: (1024, 1000)\n"
     ]
    }
   ],
   "source": [
    "# Loading the dataset\n",
    "hf = h5py.File('hw4_data1.mat', 'r')\n",
    "ls = list(hf.keys())\n",
    "# Examining its contents\n",
    "print(\"Contents of hw4_data1.mat file: \" + str(ls))\n",
    "\n",
    "\n",
    "print(\"Question 1: Part A\")\n",
    "# Inspecting faces array\n",
    "faces = np.array(hf.get('faces'))\n",
    "print('faces is of shape: ' + str(faces.shape)) # (1024, 1000)"
   ]
  },
  {
   "cell_type": "code",
   "execution_count": 6,
   "id": "killing-integration",
   "metadata": {},
   "outputs": [
    {
     "data": {
      "text/plain": [
       "(1000, 1024)"
      ]
     },
     "execution_count": 6,
     "metadata": {},
     "output_type": "execute_result"
    }
   ],
   "source": [
    "faces = faces.T\n",
    "faces.shape"
   ]
  },
  {
   "cell_type": "code",
   "execution_count": 7,
   "id": "based-arbor",
   "metadata": {},
   "outputs": [
    {
     "data": {
      "text/plain": [
       "(1024,)"
      ]
     },
     "execution_count": 7,
     "metadata": {},
     "output_type": "execute_result"
    }
   ],
   "source": [
    "f_mean = np.mean(faces,axis=0)\n",
    "f_mean.shape"
   ]
  },
  {
   "cell_type": "code",
   "execution_count": 8,
   "id": "adjacent-reynolds",
   "metadata": {},
   "outputs": [],
   "source": [
    "# Subtracting the mean from data\n",
    "faces_f = faces - f_mean\n",
    "# Obtaining the variance of the features\n",
    "var_f = np.var(faces_f, axis=0)"
   ]
  },
  {
   "cell_type": "code",
   "execution_count": 9,
   "id": "inner-arnold",
   "metadata": {},
   "outputs": [
    {
     "data": {
      "text/plain": [
       "(1000, 1024)"
      ]
     },
     "execution_count": 9,
     "metadata": {},
     "output_type": "execute_result"
    }
   ],
   "source": [
    "faces_f.shape"
   ]
  },
  {
   "cell_type": "code",
   "execution_count": 10,
   "id": "similar-transaction",
   "metadata": {},
   "outputs": [],
   "source": [
    "std_f = np.sqrt(var_f)\n",
    "# Normalized data obtained with\n",
    "norm_faces = faces_f/std_f"
   ]
  },
  {
   "cell_type": "code",
   "execution_count": 11,
   "id": "disabled-sister",
   "metadata": {},
   "outputs": [
    {
     "data": {
      "text/plain": [
       "(1000, 1024)"
      ]
     },
     "execution_count": 11,
     "metadata": {},
     "output_type": "execute_result"
    }
   ],
   "source": [
    "norm_faces.shape"
   ]
  },
  {
   "cell_type": "code",
   "execution_count": 12,
   "id": "committed-toddler",
   "metadata": {},
   "outputs": [],
   "source": [
    "from sklearn.decomposition import PCA"
   ]
  },
  {
   "cell_type": "code",
   "execution_count": 13,
   "id": "south-original",
   "metadata": {},
   "outputs": [
    {
     "data": {
      "text/plain": [
       "PCA(n_components=100)"
      ]
     },
     "execution_count": 13,
     "metadata": {},
     "output_type": "execute_result"
    }
   ],
   "source": [
    "# First 100 components\n",
    "pca_data = PCA(100)\n",
    "# Obtaining the PCA output\n",
    "pca_data.fit(norm_faces)"
   ]
  },
  {
   "cell_type": "code",
   "execution_count": 14,
   "id": "ordered-mailing",
   "metadata": {},
   "outputs": [],
   "source": [
    "# Obtaining PVE\n",
    "pve = pca_data.explained_variance_ratio_"
   ]
  },
  {
   "cell_type": "code",
   "execution_count": 15,
   "id": "underlying-listening",
   "metadata": {},
   "outputs": [],
   "source": [
    "pca_a = pca_data.fit(norm_faces)"
   ]
  },
  {
   "cell_type": "code",
   "execution_count": 16,
   "id": "iraqi-measure",
   "metadata": {},
   "outputs": [
    {
     "data": {
      "text/plain": [
       "PCA(n_components=100)"
      ]
     },
     "execution_count": 16,
     "metadata": {},
     "output_type": "execute_result"
    }
   ],
   "source": [
    "pca_a"
   ]
  },
  {
   "cell_type": "code",
   "execution_count": 20,
   "id": "bearing-albuquerque",
   "metadata": {},
   "outputs": [],
   "source": [
    "pve_a = pca_a.explained_variance_ratio_"
   ]
  },
  {
   "cell_type": "code",
   "execution_count": 26,
   "id": "covered-formation",
   "metadata": {},
   "outputs": [],
   "source": [
    "p_1 = pca_a.components_"
   ]
  },
  {
   "cell_type": "code",
   "execution_count": 27,
   "id": "documented-orleans",
   "metadata": {},
   "outputs": [
    {
     "data": {
      "text/plain": [
       "(100, 1024)"
      ]
     },
     "execution_count": 27,
     "metadata": {},
     "output_type": "execute_result"
    }
   ],
   "source": [
    "p_1.shape"
   ]
  },
  {
   "cell_type": "code",
   "execution_count": null,
   "id": "burning-column",
   "metadata": {},
   "outputs": [],
   "source": [
    "# Displaying first 25 PCs as Images"
   ]
  },
  {
   "cell_type": "code",
   "execution_count": 89,
   "id": "spectacular-dealing",
   "metadata": {},
   "outputs": [],
   "source": [
    "# Performing varying k-dimensional PCA applications\n",
    "k_10 = PCA(10)\n",
    "pca_10 = k_10.fit(norm_faces).components_\n",
    "k_25 = PCA(25)\n",
    "pca_25 = k_25.fit(norm_faces).components_\n",
    "k_50 = PCA(50)\n",
    "pca_50 = k_50.fit(norm_faces).components_\n",
    "\n",
    "# Projecting data onto each of the subspaces\n",
    "z_10 = np.dot(norm_faces, pca_10.T)\n",
    "z_25 = np.dot(norm_faces, pca_25.T)\n",
    "z_50 = np.dot(norm_faces, pca_50.T)\n",
    "\n",
    "# Reconstructing the data matrix from 3 projection cases\n",
    "x_10 = (np.dot(z_10,pca_10) * std_f) + f_mean\n",
    "x_25 = (np.dot(z_25, pca_25) * std_f) + f_mean\n",
    "x_50 = (np.dot(z_50, pca_50) * std_f) + f_mean\n",
    "\n",
    "\n",
    "\n",
    "\n"
   ]
  },
  {
   "cell_type": "code",
   "execution_count": 90,
   "id": "promising-contrast",
   "metadata": {},
   "outputs": [
    {
     "name": "stdout",
     "output_type": "stream",
     "text": [
      "10 PCs Reconstruction MSE --> Mean and Std:  Mean = 529.828471088672 || Std = 257.79946421423404\n",
      "25 PCs Reconstruction MSE --> Mean and Std:  Mean = 336.84142791994304 || Std = 153.26974223368956\n",
      "50 PCs Reconstruction MSE --> Mean and Std:  Mean = 201.531710935914 || Std = 85.32537825032112\n"
     ]
    }
   ],
   "source": [
    "mse_10 = np.mean(np.square(faces-x_10))\n",
    "std_10 = np.std(np.mean(np.square(faces-x_10),axis=1))\n",
    "print('10 PCs Reconstruction MSE --> Mean and Std:  Mean = ' + str(mse_10) + ' || Std = ' + str(std_10))\n",
    "mse_25 = np.mean(np.square(faces - x_25))\n",
    "std_25 = np.std(np.mean(np.square(faces-x_25),axis=1))\n",
    "print('25 PCs Reconstruction MSE --> Mean and Std:  Mean = ' + str(mse_25) + ' || Std = ' + str(std_25))\n",
    "mse_50 = np.mean(np.square(faces - x_50))\n",
    "std_50 = np.std(np.mean(np.square(faces-x_50),axis=1))\n",
    "print('50 PCs Reconstruction MSE --> Mean and Std:  Mean = ' + str(mse_50) + ' || Std = ' + str(std_50))"
   ]
  },
  {
   "cell_type": "code",
   "execution_count": 87,
   "id": "committed-health",
   "metadata": {},
   "outputs": [],
   "source": [
    "from sklearn.decomposition import FastICA"
   ]
  },
  {
   "cell_type": "code",
   "execution_count": 201,
   "id": "behavioral-rainbow",
   "metadata": {},
   "outputs": [],
   "source": [
    "# z_50 variable is the (1000x50) shaped PCA-reduced data\n",
    "\n",
    "ica_10 = FastICA(10,random_state=np.random.seed(12)).fit(z_50.T) #(10, 1000)\n",
    "ica_25 = FastICA(25,random_state=np.random.seed(12)).fit(z_50) #(25, 1000)\n",
    "ica_50 = FastICA(50,random_state=np.random.seed(12)).fit(z_50) #(50, 1000)"
   ]
  },
  {
   "cell_type": "code",
   "execution_count": 115,
   "id": "mechanical-sister",
   "metadata": {},
   "outputs": [],
   "source": [
    "A_10 = FastICA(10,random_state=np.random.seed(12)).fit(z_50).mixing_ #(10, 1000)\n",
    "A_25 = FastICA(25,random_state=np.random.seed(12)).fit(z_50).mixing_ #(25, 1000)\n",
    "A_50 = FastICA(50,random_state=np.random.seed(12)).fit(z_50).mixing_ #(50, 1000)"
   ]
  },
  {
   "cell_type": "code",
   "execution_count": 116,
   "id": "asian-photographer",
   "metadata": {},
   "outputs": [],
   "source": [
    "# Reconstructing the data matrix from 3 projection cases\n",
    "icrec_10 = np.dot(ica_10.transform(z_50), A_10.T) + ica_10.mean_"
   ]
  },
  {
   "cell_type": "code",
   "execution_count": 117,
   "id": "flying-endorsement",
   "metadata": {},
   "outputs": [
    {
     "data": {
      "text/plain": [
       "(1000, 50)"
      ]
     },
     "execution_count": 117,
     "metadata": {},
     "output_type": "execute_result"
    }
   ],
   "source": [
    "icrec_10.shape"
   ]
  },
  {
   "cell_type": "code",
   "execution_count": 202,
   "id": "mobile-harassment",
   "metadata": {},
   "outputs": [
    {
     "data": {
      "text/plain": [
       "(10, 1000)"
      ]
     },
     "execution_count": 202,
     "metadata": {},
     "output_type": "execute_result"
    }
   ],
   "source": [
    "pert = ica_10.components_\n",
    "pert.shape"
   ]
  },
  {
   "cell_type": "code",
   "execution_count": 203,
   "id": "expressed-script",
   "metadata": {},
   "outputs": [],
   "source": [
    "kert = pert[0,:]"
   ]
  },
  {
   "cell_type": "code",
   "execution_count": 222,
   "id": "laughing-birth",
   "metadata": {},
   "outputs": [],
   "source": [
    "def IC_pad(ims):\n",
    "    \n",
    "    padded_im = np.pad(ims,(12,), 'constant')\n",
    "    \n",
    "    return padded_im.reshape(32,32)\n",
    "    \n",
    "    "
   ]
  },
  {
   "cell_type": "code",
   "execution_count": 223,
   "id": "banner-thomson",
   "metadata": {},
   "outputs": [
    {
     "data": {
      "image/png": "[encoded data removed]",
      "text/plain": [
       "<Figure size 432x288 with 1 Axes>"
      ]
     },
     "metadata": {
      "needs_background": "light"
     },
     "output_type": "display_data"
    }
   ],
   "source": [
    "tert = IC_pad(kert)\n",
    "plt.figure()\n",
    "plt.imshow(tert.T, cmap='gray')\n",
    "\n",
    "plt.tight_layout()"
   ]
  },
  {
   "cell_type": "code",
   "execution_count": null,
   "id": "august-pasta",
   "metadata": {},
   "outputs": [],
   "source": []
  },
  {
   "cell_type": "code",
   "execution_count": null,
   "id": "naughty-boundary",
   "metadata": {},
   "outputs": [],
   "source": []
  },
  {
   "cell_type": "code",
   "execution_count": 145,
   "id": "published-setting",
   "metadata": {},
   "outputs": [
    {
     "data": {
      "text/plain": [
       "<matplotlib.image.AxesImage at 0x7f90b2723450>"
      ]
     },
     "execution_count": 145,
     "metadata": {},
     "output_type": "execute_result"
    },
    {
     "data": {
      "image/png": "[encoded data removed]",
      "text/plain": [
       "<Figure size 432x288 with 1 Axes>"
      ]
     },
     "metadata": {
      "needs_background": "light"
     },
     "output_type": "display_data"
    }
   ],
   "source": [
    "plt.figure()\n",
    "plt.imshow(sek.reshape(25,40), cmap='gray', aspect='auto')"
   ]
  },
  {
   "cell_type": "code",
   "execution_count": 149,
   "id": "inappropriate-freeware",
   "metadata": {},
   "outputs": [],
   "source": [
    "ica_10 = FastICA(10,random_state=np.random.seed(12)).fit(x_50) #(10, 1000)"
   ]
  },
  {
   "cell_type": "code",
   "execution_count": 150,
   "id": "bottom-carolina",
   "metadata": {},
   "outputs": [
    {
     "data": {
      "text/plain": [
       "(10, 1024)"
      ]
     },
     "execution_count": 150,
     "metadata": {},
     "output_type": "execute_result"
    }
   ],
   "source": [
    "kek = ica_10.components_\n",
    "kek.shape"
   ]
  },
  {
   "cell_type": "code",
   "execution_count": 161,
   "id": "furnished-tutorial",
   "metadata": {},
   "outputs": [
    {
     "data": {
      "text/plain": [
       "10"
      ]
     },
     "execution_count": 161,
     "metadata": {},
     "output_type": "execute_result"
    }
   ],
   "source": [
    "pertev = np.pad(kek,)"
   ]
  },
  {
   "cell_type": "code",
   "execution_count": 212,
   "id": "chronic-indicator",
   "metadata": {},
   "outputs": [],
   "source": [
    "def IC_pad(ims):\n",
    "    \n",
    "    padded_im = np.pad(ims,(12,), 'symmetric')\n",
    "    \n",
    "    return padded_im.reshape(32,32)\n",
    "    \n",
    "    "
   ]
  },
  {
   "cell_type": "code",
   "execution_count": 204,
   "id": "identified-concord",
   "metadata": {},
   "outputs": [],
   "source": [
    "kerc = np.ones((1000,))"
   ]
  },
  {
   "cell_type": "code",
   "execution_count": 205,
   "id": "ambient-future",
   "metadata": {},
   "outputs": [
    {
     "data": {
      "text/plain": [
       "(1000,)"
      ]
     },
     "execution_count": 205,
     "metadata": {},
     "output_type": "execute_result"
    }
   ],
   "source": [
    "kerc.shape"
   ]
  },
  {
   "cell_type": "code",
   "execution_count": 206,
   "id": "instructional-vaccine",
   "metadata": {},
   "outputs": [
    {
     "data": {
      "text/plain": [
       "(1024,)"
      ]
     },
     "execution_count": 206,
     "metadata": {},
     "output_type": "execute_result"
    }
   ],
   "source": [
    "perc = np.pad(kerc,(12,),'mean')\n",
    "perc.shape"
   ]
  },
  {
   "cell_type": "code",
   "execution_count": 194,
   "id": "scheduled-bangkok",
   "metadata": {},
   "outputs": [],
   "source": [
    "pertev = IC_pad(kerc)"
   ]
  },
  {
   "cell_type": "code",
   "execution_count": 224,
   "id": "standard-british",
   "metadata": {},
   "outputs": [],
   "source": [
    "ica_10 = FastICA(10, random_state=np.random.seed(12)).fit(x_50)\n",
    "ica_25 = FastICA(25, random_state=np.random.seed(12)).fit(x_50)\n",
    "ica_50 = FastICA(50, random_state=np.random.seed(12)).fit(x_50)\n",
    "\n",
    "# Obtaining the respective Mixing Matrices -A\n",
    "\n",
    "A_10 = FastICA(10, random_state=np.random.seed(12)).fit(x_50).mixing_  # (50, 10)\n",
    "A_25 = FastICA(25, random_state=np.random.seed(12)).fit(x_50).mixing_  # (50, 25)\n",
    "A_50 = FastICA(50, random_state=np.random.seed(12)).fit(x_50).mixing_  # (50, 50)\n",
    "\n",
    "# Reconstructing the data matrix from 3 projection cases\n",
    "icrec_10 = np.dot(ica_10.transform(x_50), A_10.T) + ica_10.mean_ #(1000,50)\n",
    "icrec_25 = np.dot(ica_25.transform(x_50), A_25.T) + ica_25.mean_\n",
    "icrec_50 = np.dot(ica_50.transform(x_50), A_50.T) + ica_50.mean_"
   ]
  },
  {
   "cell_type": "code",
   "execution_count": 230,
   "id": "european-glance",
   "metadata": {},
   "outputs": [],
   "source": [
    "from sklearn.decomposition import NMF"
   ]
  },
  {
   "cell_type": "code",
   "execution_count": 228,
   "id": "incredible-survey",
   "metadata": {},
   "outputs": [],
   "source": [
    "# Obtaining the minimum pixel value within faces matrix\n",
    "min_pix = np.abs(np.min(faces))\n",
    "nnmf_data = faces + min_pix"
   ]
  },
  {
   "cell_type": "code",
   "execution_count": 233,
   "id": "automotive-magnitude",
   "metadata": {},
   "outputs": [],
   "source": [
    "nnmf_10 = NMF(10, solver='mu', max_iter=400)\n",
    "nnmf_25 = NMF(25, solver='mu', max_iter=400)\n",
    "nnmf_50 = NMF(50, solver='mu', max_iter=400)\n"
   ]
  },
  {
   "cell_type": "code",
   "execution_count": null,
   "id": "removable-melbourne",
   "metadata": {},
   "outputs": [],
   "source": [
    " # Obtaining H expansion matrix component of shape (10,1024)\n",
    "        h_10 = nnmf_10.components_\n",
    "\n",
    "        # Obtaining W dictionary matrix component of shape (1000,10)\n",
    "        w_10 = nnmf_10.fit(nnmf_data)"
   ]
  }
 ],
 "metadata": {
  "kernelspec": {
   "display_name": "Python 3",
   "language": "python",
   "name": "python3"
  },
  "language_info": {
   "codemirror_mode": {
    "name": "ipython",
    "version": 3
   },
   "file_extension": ".py",
   "mimetype": "text/x-python",
   "name": "python",
   "nbconvert_exporter": "python",
   "pygments_lexer": "ipython3",
   "version": "3.7.9"
  }
 },
 "nbformat": 4,
 "nbformat_minor": 5
}
